{
 "cells": [
  {
   "cell_type": "markdown",
   "id": "f78b699a",
   "metadata": {},
   "source": [
    "# Introduction"
   ]
  },
  {
   "cell_type": "markdown",
   "id": "bdfe7ada",
   "metadata": {},
   "source": [
    "You should process some texts using [NLTK](https://www.nltk.org/) or [spaCy](https://spacy.io/) libraries (ideally both). In particular, you should do the following:\n",
    "- Load the `harry_potter` book. You can find this text corpus in the datasets folder.\n",
    "- Segment the text of the book into sentences. How many sentences does this book have?\n",
    "- Compute the frequency of each token in the book. What are the most frequent tokens?\n",
    "- Choose a sentence from the book. Analyze this chosen sentence by\n",
    "    - Calculating all [n-grams](https://en.wikipedia.org/wiki/N-gram).\n",
    "    - Finding [POS tags](https://en.wikipedia.org/wiki/Part-of-speech_tagging) of tokens.\n",
    "    - [Stemming](https://en.wikipedia.org/wiki/Stemming) and [lemmatizing](https://en.wikipedia.org/wiki/Lemmatisation) tokens.\n",
    "- Check the documentation to identify the most important hyperparameters, attributes, and methods. Use them in practice."
   ]
  },
  {
   "cell_type": "markdown",
   "id": "5f9ed9ed",
   "metadata": {},
   "source": [
    "### Import libraries"
   ]
  },
  {
   "cell_type": "code",
   "execution_count": 132,
   "id": "31aa2e43",
   "metadata": {},
   "outputs": [
    {
     "name": "stderr",
     "output_type": "stream",
     "text": [
      "[nltk_data] Downloading package punkt to\n",
      "[nltk_data]     /Users/adolfomytr/nltk_data...\n",
      "[nltk_data]   Package punkt is already up-to-date!\n",
      "[nltk_data] Downloading package stopwords to\n",
      "[nltk_data]     /Users/adolfomytr/nltk_data...\n",
      "[nltk_data]   Package stopwords is already up-to-date!\n",
      "[nltk_data] Downloading package averaged_perceptron_tagger to\n",
      "[nltk_data]     /Users/adolfomytr/nltk_data...\n",
      "[nltk_data]   Package averaged_perceptron_tagger is already up-to-\n",
      "[nltk_data]       date!\n",
      "[nltk_data] Downloading package wordnet to\n",
      "[nltk_data]     /Users/adolfomytr/nltk_data...\n",
      "[nltk_data]   Package wordnet is already up-to-date!\n"
     ]
    },
    {
     "data": {
      "text/plain": [
       "True"
      ]
     },
     "execution_count": 132,
     "metadata": {},
     "output_type": "execute_result"
    }
   ],
   "source": [
    "import pandas as pd\n",
    "import nltk\n",
    "from nltk.tokenize import sent_tokenize\n",
    "from nltk.corpus import stopwords\n",
    "from nltk.util import ngrams\n",
    "from nltk.stem import PorterStemmer, WordNetLemmatizer\n",
    "from nltk.corpus import wordnet\n",
    "\n",
    "nltk.download('punkt')\n",
    "nltk.download('stopwords')\n",
    "nltk.download('averaged_perceptron_tagger')\n",
    "nltk.download('wordnet')"
   ]
  },
  {
   "cell_type": "markdown",
   "id": "654371f5",
   "metadata": {},
   "source": [
    "### Load text file"
   ]
  },
  {
   "cell_type": "code",
   "execution_count": 133,
   "id": "1085d8e8",
   "metadata": {},
   "outputs": [],
   "source": [
    "with open('/Users/adolfomytr/Documents/Alemania/Master/GISMA/Materias/natural_language_processing/harry_potter.txt', 'r') as file:\n",
    "    harry_potter = file.read()\n",
    "\n",
    "#print(harry_potter)"
   ]
  },
  {
   "cell_type": "markdown",
   "id": "62922100",
   "metadata": {},
   "source": [
    "### Separate into sentences and count them"
   ]
  },
  {
   "cell_type": "code",
   "execution_count": 134,
   "id": "8db26642",
   "metadata": {},
   "outputs": [
    {
     "data": {
      "text/plain": [
       "6394"
      ]
     },
     "execution_count": 134,
     "metadata": {},
     "output_type": "execute_result"
    }
   ],
   "source": [
    "sentences = sent_tokenize(harry_potter)\n",
    "num_sentences = len(sentences)\n",
    "num_sentences"
   ]
  },
  {
   "cell_type": "markdown",
   "id": "c7e700fa",
   "metadata": {},
   "source": [
    "### Compute the most frequent tokens in the book"
   ]
  },
  {
   "cell_type": "code",
   "execution_count": 135,
   "id": "0d0aba57",
   "metadata": {},
   "outputs": [
    {
     "data": {
      "text/html": [
       "<div>\n",
       "<style scoped>\n",
       "    .dataframe tbody tr th:only-of-type {\n",
       "        vertical-align: middle;\n",
       "    }\n",
       "\n",
       "    .dataframe tbody tr th {\n",
       "        vertical-align: top;\n",
       "    }\n",
       "\n",
       "    .dataframe thead th {\n",
       "        text-align: right;\n",
       "    }\n",
       "</style>\n",
       "<table border=\"1\" class=\"dataframe\">\n",
       "  <thead>\n",
       "    <tr style=\"text-align: right;\">\n",
       "      <th></th>\n",
       "      <th>word_count</th>\n",
       "    </tr>\n",
       "  </thead>\n",
       "  <tbody>\n",
       "    <tr>\n",
       "      <th>harry</th>\n",
       "      <td>1324</td>\n",
       "    </tr>\n",
       "    <tr>\n",
       "      <th>said</th>\n",
       "      <td>794</td>\n",
       "    </tr>\n",
       "    <tr>\n",
       "      <th>ron</th>\n",
       "      <td>429</td>\n",
       "    </tr>\n",
       "    <tr>\n",
       "      <th>hagrid</th>\n",
       "      <td>369</td>\n",
       "    </tr>\n",
       "    <tr>\n",
       "      <th>could</th>\n",
       "      <td>303</td>\n",
       "    </tr>\n",
       "    <tr>\n",
       "      <th>hermione</th>\n",
       "      <td>270</td>\n",
       "    </tr>\n",
       "    <tr>\n",
       "      <th>back</th>\n",
       "      <td>261</td>\n",
       "    </tr>\n",
       "    <tr>\n",
       "      <th>one</th>\n",
       "      <td>256</td>\n",
       "    </tr>\n",
       "    <tr>\n",
       "      <th>got</th>\n",
       "      <td>206</td>\n",
       "    </tr>\n",
       "    <tr>\n",
       "      <th>like</th>\n",
       "      <td>194</td>\n",
       "    </tr>\n",
       "  </tbody>\n",
       "</table>\n",
       "</div>"
      ],
      "text/plain": [
       "          word_count\n",
       "harry           1324\n",
       "said             794\n",
       "ron              429\n",
       "hagrid           369\n",
       "could            303\n",
       "hermione         270\n",
       "back             261\n",
       "one              256\n",
       "got              206\n",
       "like             194"
      ]
     },
     "execution_count": 135,
     "metadata": {},
     "output_type": "execute_result"
    }
   ],
   "source": [
    "#Extract the words from the text file\n",
    "tokens = nltk.word_tokenize(harry_potter)\n",
    "\n",
    "#Convert all words into lowercase\n",
    "tokens = [word.lower() for word in tokens]\n",
    "\n",
    "# Remove any punctuation and other non-alphabetic characters\n",
    "tokens = [word for word in tokens if word.isalpha()]\n",
    "\n",
    "# Remove stop words\n",
    "stop_words = set(stopwords.words('english'))\n",
    "tokens = [word for word in tokens if not word in stop_words]\n",
    "\n",
    "#Create dictionary with frequency of the words\n",
    "freq = {}\n",
    "for t in tokens:\n",
    "    if t in freq:\n",
    "        freq[t] += 1\n",
    "    else:\n",
    "        freq[t] = 1\n",
    "\n",
    "\n",
    "#Convert dictionary to dataframe to print the top words\n",
    "freq = pd.DataFrame(freq, index=['word_count']).transpose()\n",
    "freq = freq.sort_values('word_count', ascending=False)\n",
    "freq.head(10)"
   ]
  },
  {
   "cell_type": "markdown",
   "id": "8aa3b252",
   "metadata": {},
   "source": [
    "### Choose a sentence from the file and analyze it"
   ]
  },
  {
   "cell_type": "code",
   "execution_count": 136,
   "id": "9d46bae2",
   "metadata": {},
   "outputs": [],
   "source": [
    "#Select a random sentence\n",
    "random_sentence = sentences[1]\n",
    "\n",
    "#Calculate n_grams\n",
    "n = 2\n",
    "\n",
    "ngram_list = []\n",
    "for i in range(1, n+1):\n",
    "    ngrams_list = ngrams(random_sentence.split(), i)\n",
    "    ngram_list += list(ngrams_list)\n",
    "#print(ngram_list)\n",
    "\n",
    "#Finding POS tags of tokens\n",
    "tokens_rs = nltk.word_tokenize(random_sentence)\n",
    "pos_tags = nltk.pos_tag(tokens_rs)\n",
    "#print(pos_tags)\n",
    "\n",
    "#Stemming tokens\n",
    "stemmer = PorterStemmer()\n",
    "stemmed_tokens = [stemmer.stem(token) for token in tokens_rs]\n",
    "#print(stemmed_tokens)\n",
    "\n",
    "#Lemmatizing tokens\n",
    "lemmatizer = WordNetLemmatizer()\n",
    "lemmatized_tokens = []\n",
    "for token in tokens_rs:\n",
    "    pos = nltk.pos_tag([token])[0][1][0].lower()  # get the POS tag of the token\n",
    "    if pos not in ['a', 'r', 'n', 'v']:  # map the POS tag to WordNet POS tag\n",
    "        pos = 'n'  # if the POS tag is not recognized, assume it's a noun\n",
    "    wn_pos = {'a': wordnet.ADJ, 'r': wordnet.ADV, 'n': wordnet.NOUN, 'v': wordnet.VERB}.get(pos)\n",
    "    lemma = lemmatizer.lemmatize(token, pos=wn_pos)\n",
    "    lemmatized_tokens.append(lemma)\n",
    "#print(lemmatized_tokens)"
   ]
  }
 ],
 "metadata": {
  "kernelspec": {
   "display_name": "Python 3 (ipykernel)",
   "language": "python",
   "name": "python3"
  },
  "language_info": {
   "codemirror_mode": {
    "name": "ipython",
    "version": 3
   },
   "file_extension": ".py",
   "mimetype": "text/x-python",
   "name": "python",
   "nbconvert_exporter": "python",
   "pygments_lexer": "ipython3",
   "version": "3.8.5"
  }
 },
 "nbformat": 4,
 "nbformat_minor": 5
}
